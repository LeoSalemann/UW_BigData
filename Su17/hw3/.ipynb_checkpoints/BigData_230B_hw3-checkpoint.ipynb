{
 "cells": [
  {
   "cell_type": "markdown",
   "metadata": {},
   "source": [
    "# BIGDATA 230B Homework 3: Nifi\n",
    "## Leo Salemann\n",
    "## 8/2/17"
   ]
  },
  {
   "cell_type": "code",
   "execution_count": 137,
   "metadata": {
    "collapsed": true
   },
   "outputs": [],
   "source": [
    "import json\n",
    "import pandas as pd\n",
    "import os\n",
    "from pandas.io.json import json_normalize\n",
    "%matplotlib inline\n",
    "import matplotlib.pyplot as plt"
   ]
  },
  {
   "cell_type": "markdown",
   "metadata": {},
   "source": [
    "### Do a few OS commands to list files and inspect contents"
   ]
  },
  {
   "cell_type": "code",
   "execution_count": 147,
   "metadata": {},
   "outputs": [
    {
     "name": "stdout",
     "output_type": "stream",
     "text": [
      "Apple_20.json  Apple_26.json  Apple_28.json  Apple_29.json  Apple_2d.json\r\n"
     ]
    }
   ],
   "source": [
    "!ls json"
   ]
  },
  {
   "cell_type": "code",
   "execution_count": 138,
   "metadata": {},
   "outputs": [
    {
     "name": "stdout",
     "output_type": "stream",
     "text": [
      "{\r\n",
      "\"id\": \"22144\"\r\n",
      ",\"t\" : \"AAPL\"\r\n",
      ",\"e\" : \"NASDAQ\"\r\n",
      ",\"l\" : \"157.45\"\r\n",
      ",\"l_fix\" : \"157.45\"\r\n",
      ",\"l_cur\" : \"157.44\"\r\n",
      ",\"s\": \"0\"\r\n",
      ",\"ltt\":\"2:00PM EDT\"\r\n",
      ",\"lt\" : \"Aug 2, 2:00PM EDT\"\r\n",
      ",\"lt_dts\" : \"2017-08-02T14:00:09Z\"\r\n",
      ",\"c\" : \"+7.40\"\r\n",
      ",\"c_fix\" : \"7.40\"\r\n",
      ",\"cp\" : \"4.93\"\r\n",
      ",\"cp_fix\" : \"4.93\"\r\n",
      ",\"ccol\" : \"chg\"\r\n",
      ",\"pcls_fix\" : \"150.05\"\r\n",
      "}\r\n"
     ]
    }
   ],
   "source": [
    "!cat json/Apple_20.json"
   ]
  },
  {
   "cell_type": "markdown",
   "metadata": {},
   "source": [
    "### Turn a json file into a dataframe"
   ]
  },
  {
   "cell_type": "code",
   "execution_count": 139,
   "metadata": {},
   "outputs": [
    {
     "data": {
      "text/html": [
       "<div>\n",
       "<style>\n",
       "    .dataframe thead tr:only-child th {\n",
       "        text-align: right;\n",
       "    }\n",
       "\n",
       "    .dataframe thead th {\n",
       "        text-align: left;\n",
       "    }\n",
       "\n",
       "    .dataframe tbody tr th {\n",
       "        vertical-align: top;\n",
       "    }\n",
       "</style>\n",
       "<table border=\"1\" class=\"dataframe\">\n",
       "  <thead>\n",
       "    <tr style=\"text-align: right;\">\n",
       "      <th></th>\n",
       "      <th>c</th>\n",
       "      <th>c_fix</th>\n",
       "      <th>ccol</th>\n",
       "      <th>cp</th>\n",
       "      <th>cp_fix</th>\n",
       "      <th>e</th>\n",
       "      <th>id</th>\n",
       "      <th>l</th>\n",
       "      <th>l_cur</th>\n",
       "      <th>l_fix</th>\n",
       "      <th>lt</th>\n",
       "      <th>lt_dts</th>\n",
       "      <th>ltt</th>\n",
       "      <th>pcls_fix</th>\n",
       "      <th>s</th>\n",
       "      <th>t</th>\n",
       "    </tr>\n",
       "  </thead>\n",
       "  <tbody>\n",
       "    <tr>\n",
       "      <th>0</th>\n",
       "      <td>+7.40</td>\n",
       "      <td>7.40</td>\n",
       "      <td>chg</td>\n",
       "      <td>4.93</td>\n",
       "      <td>4.93</td>\n",
       "      <td>NASDAQ</td>\n",
       "      <td>22144</td>\n",
       "      <td>157.45</td>\n",
       "      <td>157.44</td>\n",
       "      <td>157.45</td>\n",
       "      <td>Aug 2, 2:00PM EDT</td>\n",
       "      <td>2017-08-02T14:00:09Z</td>\n",
       "      <td>2:00PM EDT</td>\n",
       "      <td>150.05</td>\n",
       "      <td>0</td>\n",
       "      <td>AAPL</td>\n",
       "    </tr>\n",
       "  </tbody>\n",
       "</table>\n",
       "</div>"
      ],
      "text/plain": [
       "       c c_fix ccol    cp cp_fix       e     id       l   l_cur   l_fix  \\\n",
       "0  +7.40  7.40  chg  4.93   4.93  NASDAQ  22144  157.45  157.44  157.45   \n",
       "\n",
       "                  lt                lt_dts         ltt pcls_fix  s     t  \n",
       "0  Aug 2, 2:00PM EDT  2017-08-02T14:00:09Z  2:00PM EDT   150.05  0  AAPL  "
      ]
     },
     "execution_count": 139,
     "metadata": {},
     "output_type": "execute_result"
    }
   ],
   "source": [
    "with open('./json/Apple_20.json') as json_file:\n",
    "  raw_json = json.load(json_file)\n",
    "\n",
    "raw_json\n",
    "\n",
    "normal_json = json_normalize(raw_json) \n",
    "normal_json"
   ]
  },
  {
   "cell_type": "code",
   "execution_count": 140,
   "metadata": {},
   "outputs": [
    {
     "data": {
      "text/plain": [
       "c           object\n",
       "c_fix       object\n",
       "ccol        object\n",
       "cp          object\n",
       "cp_fix      object\n",
       "e           object\n",
       "id          object\n",
       "l           object\n",
       "l_cur       object\n",
       "l_fix       object\n",
       "lt          object\n",
       "lt_dts      object\n",
       "ltt         object\n",
       "pcls_fix    object\n",
       "s           object\n",
       "t           object\n",
       "dtype: object"
      ]
     },
     "execution_count": 140,
     "metadata": {},
     "output_type": "execute_result"
    }
   ],
   "source": [
    "normal_json.dtypes"
   ]
  },
  {
   "cell_type": "markdown",
   "metadata": {},
   "source": [
    "### Iterate over the json files and load them all, into a single multi-row dataframe"
   ]
  },
  {
   "cell_type": "code",
   "execution_count": 141,
   "metadata": {},
   "outputs": [
    {
     "data": {
      "text/html": [
       "<div>\n",
       "<style>\n",
       "    .dataframe thead tr:only-child th {\n",
       "        text-align: right;\n",
       "    }\n",
       "\n",
       "    .dataframe thead th {\n",
       "        text-align: left;\n",
       "    }\n",
       "\n",
       "    .dataframe tbody tr th {\n",
       "        vertical-align: top;\n",
       "    }\n",
       "</style>\n",
       "<table border=\"1\" class=\"dataframe\">\n",
       "  <thead>\n",
       "    <tr style=\"text-align: right;\">\n",
       "      <th></th>\n",
       "      <th>c</th>\n",
       "      <th>c_fix</th>\n",
       "      <th>ccol</th>\n",
       "      <th>cp</th>\n",
       "      <th>cp_fix</th>\n",
       "      <th>e</th>\n",
       "      <th>id</th>\n",
       "      <th>l</th>\n",
       "      <th>l_cur</th>\n",
       "      <th>l_fix</th>\n",
       "      <th>lt</th>\n",
       "      <th>lt_dts</th>\n",
       "      <th>ltt</th>\n",
       "      <th>pcls_fix</th>\n",
       "      <th>s</th>\n",
       "      <th>t</th>\n",
       "    </tr>\n",
       "  </thead>\n",
       "  <tbody>\n",
       "    <tr>\n",
       "      <th>0</th>\n",
       "      <td>+7.43</td>\n",
       "      <td>7.43</td>\n",
       "      <td>chg</td>\n",
       "      <td>4.95</td>\n",
       "      <td>4.95</td>\n",
       "      <td>NASDAQ</td>\n",
       "      <td>22144</td>\n",
       "      <td>157.48</td>\n",
       "      <td>157.48</td>\n",
       "      <td>157.48</td>\n",
       "      <td>Aug 2, 1:56PM EDT</td>\n",
       "      <td>2017-08-02T13:56:06Z</td>\n",
       "      <td>1:56PM EDT</td>\n",
       "      <td>150.05</td>\n",
       "      <td>0</td>\n",
       "      <td>AAPL</td>\n",
       "    </tr>\n",
       "    <tr>\n",
       "      <th>1</th>\n",
       "      <td>+7.31</td>\n",
       "      <td>7.31</td>\n",
       "      <td>chg</td>\n",
       "      <td>4.87</td>\n",
       "      <td>4.87</td>\n",
       "      <td>NASDAQ</td>\n",
       "      <td>22144</td>\n",
       "      <td>157.36</td>\n",
       "      <td>157.36</td>\n",
       "      <td>157.36</td>\n",
       "      <td>Aug 2, 1:58PM EDT</td>\n",
       "      <td>2017-08-02T13:58:10Z</td>\n",
       "      <td>1:58PM EDT</td>\n",
       "      <td>150.05</td>\n",
       "      <td>0</td>\n",
       "      <td>AAPL</td>\n",
       "    </tr>\n",
       "    <tr>\n",
       "      <th>2</th>\n",
       "      <td>+7.40</td>\n",
       "      <td>7.40</td>\n",
       "      <td>chg</td>\n",
       "      <td>4.93</td>\n",
       "      <td>4.93</td>\n",
       "      <td>NASDAQ</td>\n",
       "      <td>22144</td>\n",
       "      <td>157.45</td>\n",
       "      <td>157.44</td>\n",
       "      <td>157.45</td>\n",
       "      <td>Aug 2, 2:00PM EDT</td>\n",
       "      <td>2017-08-02T14:00:09Z</td>\n",
       "      <td>2:00PM EDT</td>\n",
       "      <td>150.05</td>\n",
       "      <td>0</td>\n",
       "      <td>AAPL</td>\n",
       "    </tr>\n",
       "    <tr>\n",
       "      <th>3</th>\n",
       "      <td>+7.36</td>\n",
       "      <td>7.36</td>\n",
       "      <td>chg</td>\n",
       "      <td>4.91</td>\n",
       "      <td>4.91</td>\n",
       "      <td>NASDAQ</td>\n",
       "      <td>22144</td>\n",
       "      <td>157.41</td>\n",
       "      <td>157.41</td>\n",
       "      <td>157.41</td>\n",
       "      <td>Aug 2, 1:54PM EDT</td>\n",
       "      <td>2017-08-02T13:54:08Z</td>\n",
       "      <td>1:54PM EDT</td>\n",
       "      <td>150.05</td>\n",
       "      <td>0</td>\n",
       "      <td>AAPL</td>\n",
       "    </tr>\n",
       "    <tr>\n",
       "      <th>4</th>\n",
       "      <td>+7.33</td>\n",
       "      <td>7.33</td>\n",
       "      <td>chg</td>\n",
       "      <td>4.89</td>\n",
       "      <td>4.89</td>\n",
       "      <td>NASDAQ</td>\n",
       "      <td>22144</td>\n",
       "      <td>157.38</td>\n",
       "      <td>157.38</td>\n",
       "      <td>157.38</td>\n",
       "      <td>Aug 2, 1:52PM EDT</td>\n",
       "      <td>2017-08-02T13:52:07Z</td>\n",
       "      <td>1:52PM EDT</td>\n",
       "      <td>150.05</td>\n",
       "      <td>0</td>\n",
       "      <td>AAPL</td>\n",
       "    </tr>\n",
       "  </tbody>\n",
       "</table>\n",
       "</div>"
      ],
      "text/plain": [
       "       c c_fix ccol    cp cp_fix       e     id       l   l_cur   l_fix  \\\n",
       "0  +7.43  7.43  chg  4.95   4.95  NASDAQ  22144  157.48  157.48  157.48   \n",
       "1  +7.31  7.31  chg  4.87   4.87  NASDAQ  22144  157.36  157.36  157.36   \n",
       "2  +7.40  7.40  chg  4.93   4.93  NASDAQ  22144  157.45  157.44  157.45   \n",
       "3  +7.36  7.36  chg  4.91   4.91  NASDAQ  22144  157.41  157.41  157.41   \n",
       "4  +7.33  7.33  chg  4.89   4.89  NASDAQ  22144  157.38  157.38  157.38   \n",
       "\n",
       "                  lt                lt_dts         ltt pcls_fix  s     t  \n",
       "0  Aug 2, 1:56PM EDT  2017-08-02T13:56:06Z  1:56PM EDT   150.05  0  AAPL  \n",
       "1  Aug 2, 1:58PM EDT  2017-08-02T13:58:10Z  1:58PM EDT   150.05  0  AAPL  \n",
       "2  Aug 2, 2:00PM EDT  2017-08-02T14:00:09Z  2:00PM EDT   150.05  0  AAPL  \n",
       "3  Aug 2, 1:54PM EDT  2017-08-02T13:54:08Z  1:54PM EDT   150.05  0  AAPL  \n",
       "4  Aug 2, 1:52PM EDT  2017-08-02T13:52:07Z  1:52PM EDT   150.05  0  AAPL  "
      ]
     },
     "execution_count": 141,
     "metadata": {},
     "output_type": "execute_result"
    }
   ],
   "source": [
    "top_folder = \"./json\"\n",
    "first_time = True\n",
    "\n",
    "for filename in os.listdir(top_folder):\n",
    "    filepath = top_folder + \"/\" + filename\n",
    "\n",
    "\n",
    "    with open(filepath) as json_file:\n",
    "      raw_json = json.load(json_file)\n",
    "\n",
    "    if (first_time):\n",
    " \n",
    "        first_time = False\n",
    "        bigdf = json_normalize(raw_json) \n",
    "    else:\n",
    "\n",
    "        new_json = json_normalize(raw_json)\n",
    "        bigdf = bigdf.append(new_json, ignore_index=True)\n",
    "    \n",
    "bigdf"
   ]
  },
  {
   "cell_type": "code",
   "execution_count": 142,
   "metadata": {},
   "outputs": [
    {
     "data": {
      "text/plain": [
       "c           object\n",
       "c_fix       object\n",
       "ccol        object\n",
       "cp          object\n",
       "cp_fix      object\n",
       "e           object\n",
       "id          object\n",
       "l           object\n",
       "l_cur       object\n",
       "l_fix       object\n",
       "lt          object\n",
       "lt_dts      object\n",
       "ltt         object\n",
       "pcls_fix    object\n",
       "s           object\n",
       "t           object\n",
       "dtype: object"
      ]
     },
     "execution_count": 142,
     "metadata": {},
     "output_type": "execute_result"
    }
   ],
   "source": [
    "bigdf.dtypes"
   ]
  },
  {
   "cell_type": "markdown",
   "metadata": {},
   "source": [
    "### Make a mni dataframe with just the columns we want, in the data types we need"
   ]
  },
  {
   "cell_type": "code",
   "execution_count": 143,
   "metadata": {},
   "outputs": [
    {
     "data": {
      "text/html": [
       "<div>\n",
       "<style>\n",
       "    .dataframe thead tr:only-child th {\n",
       "        text-align: right;\n",
       "    }\n",
       "\n",
       "    .dataframe thead th {\n",
       "        text-align: left;\n",
       "    }\n",
       "\n",
       "    .dataframe tbody tr th {\n",
       "        vertical-align: top;\n",
       "    }\n",
       "</style>\n",
       "<table border=\"1\" class=\"dataframe\">\n",
       "  <thead>\n",
       "    <tr style=\"text-align: right;\">\n",
       "      <th></th>\n",
       "      <th>price</th>\n",
       "      <th>when</th>\n",
       "    </tr>\n",
       "  </thead>\n",
       "  <tbody>\n",
       "    <tr>\n",
       "      <th>0</th>\n",
       "      <td>157.48</td>\n",
       "      <td>2017-08-02 13:56:00</td>\n",
       "    </tr>\n",
       "    <tr>\n",
       "      <th>1</th>\n",
       "      <td>157.36</td>\n",
       "      <td>2017-08-02 13:58:00</td>\n",
       "    </tr>\n",
       "    <tr>\n",
       "      <th>2</th>\n",
       "      <td>157.45</td>\n",
       "      <td>2017-08-02 14:00:00</td>\n",
       "    </tr>\n",
       "    <tr>\n",
       "      <th>3</th>\n",
       "      <td>157.41</td>\n",
       "      <td>2017-08-02 13:54:00</td>\n",
       "    </tr>\n",
       "    <tr>\n",
       "      <th>4</th>\n",
       "      <td>157.38</td>\n",
       "      <td>2017-08-02 13:52:00</td>\n",
       "    </tr>\n",
       "  </tbody>\n",
       "</table>\n",
       "</div>"
      ],
      "text/plain": [
       "    price                when\n",
       "0  157.48 2017-08-02 13:56:00\n",
       "1  157.36 2017-08-02 13:58:00\n",
       "2  157.45 2017-08-02 14:00:00\n",
       "3  157.41 2017-08-02 13:54:00\n",
       "4  157.38 2017-08-02 13:52:00"
      ]
     },
     "execution_count": 143,
     "metadata": {},
     "output_type": "execute_result"
    }
   ],
   "source": [
    "minidf4 = pd.DataFrame({'when': pd.to_datetime(bigdf.ltt), 'price': pd.to_numeric(bigdf.l)})\n",
    "minidf4"
   ]
  },
  {
   "cell_type": "code",
   "execution_count": 144,
   "metadata": {},
   "outputs": [
    {
     "data": {
      "text/plain": [
       "price           float64\n",
       "when     datetime64[ns]\n",
       "dtype: object"
      ]
     },
     "execution_count": 144,
     "metadata": {},
     "output_type": "execute_result"
    }
   ],
   "source": [
    "minidf4.dtypes"
   ]
  },
  {
   "cell_type": "markdown",
   "metadata": {},
   "source": [
    "### Plot the resutls. Spectacular"
   ]
  },
  {
   "cell_type": "code",
   "execution_count": 145,
   "metadata": {},
   "outputs": [
    {
     "data": {
      "text/plain": [
       "<matplotlib.axes._subplots.AxesSubplot at 0x7ff6873c5f28>"
      ]
     },
     "execution_count": 145,
     "metadata": {},
     "output_type": "execute_result"
    },
    {
     "data": {
      "image/png": "[encoded data removed]",
      "text/plain": [
       "<matplotlib.figure.Figure at 0x7ff6872a2470>"
      ]
     },
     "metadata": {},
     "output_type": "display_data"
    }
   ],
   "source": [
    "minidf4.plot(x=minidf4.when)"
   ]
  }
 ],
 "metadata": {
  "kernelspec": {
   "display_name": "Python 3",
   "language": "python",
   "name": "python3"
  },
  "language_info": {
   "codemirror_mode": {
    "name": "ipython",
    "version": 3
   },
   "file_extension": ".py",
   "mimetype": "text/x-python",
   "name": "python",
   "nbconvert_exporter": "python",
   "pygments_lexer": "ipython3",
   "version": "3.6.1"
  }
 },
 "nbformat": 4,
 "nbformat_minor": 2
}
