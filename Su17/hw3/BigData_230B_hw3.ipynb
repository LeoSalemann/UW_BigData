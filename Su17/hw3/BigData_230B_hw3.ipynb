{
 "cells": [
  {
   "cell_type": "markdown",
   "metadata": {},
   "source": [
    "_We're going to be using pandas an json, so lets start with that._"
   ]
  },
  {
   "cell_type": "code",
   "execution_count": 41,
   "metadata": {
    "collapsed": true
   },
   "outputs": [],
   "source": [
    "import json\n",
    "import pandas as pd\n",
    "import os\n",
    "from pandas.io.json import json_normalize\n",
    "%matplotlib inline"
   ]
  },
  {
   "cell_type": "code",
   "execution_count": 42,
   "metadata": {},
   "outputs": [
    {
     "name": "stdout",
     "output_type": "stream",
     "text": [
      "{\r\n",
      "\"id\": \"22144\"\r\n",
      ",\"t\" : \"AAPL\"\r\n",
      ",\"e\" : \"NASDAQ\"\r\n",
      ",\"l\" : \"157.45\"\r\n",
      ",\"l_fix\" : \"157.45\"\r\n",
      ",\"l_cur\" : \"157.44\"\r\n",
      ",\"s\": \"0\"\r\n",
      ",\"ltt\":\"2:00PM EDT\"\r\n",
      ",\"lt\" : \"Aug 2, 2:00PM EDT\"\r\n",
      ",\"lt_dts\" : \"2017-08-02T14:00:09Z\"\r\n",
      ",\"c\" : \"+7.40\"\r\n",
      ",\"c_fix\" : \"7.40\"\r\n",
      ",\"cp\" : \"4.93\"\r\n",
      ",\"cp_fix\" : \"4.93\"\r\n",
      ",\"ccol\" : \"chg\"\r\n",
      ",\"pcls_fix\" : \"150.05\"\r\n",
      "}\r\n"
     ]
    }
   ],
   "source": [
    "!cat json/Apple_20.json"
   ]
  },
  {
   "cell_type": "code",
   "execution_count": 43,
   "metadata": {},
   "outputs": [
    {
     "data": {
      "text/html": [
       "<div>\n",
       "<style>\n",
       "    .dataframe thead tr:only-child th {\n",
       "        text-align: right;\n",
       "    }\n",
       "\n",
       "    .dataframe thead th {\n",
       "        text-align: left;\n",
       "    }\n",
       "\n",
       "    .dataframe tbody tr th {\n",
       "        vertical-align: top;\n",
       "    }\n",
       "</style>\n",
       "<table border=\"1\" class=\"dataframe\">\n",
       "  <thead>\n",
       "    <tr style=\"text-align: right;\">\n",
       "      <th></th>\n",
       "      <th>c</th>\n",
       "      <th>c_fix</th>\n",
       "      <th>ccol</th>\n",
       "      <th>cp</th>\n",
       "      <th>cp_fix</th>\n",
       "      <th>e</th>\n",
       "      <th>id</th>\n",
       "      <th>l</th>\n",
       "      <th>l_cur</th>\n",
       "      <th>l_fix</th>\n",
       "      <th>lt</th>\n",
       "      <th>lt_dts</th>\n",
       "      <th>ltt</th>\n",
       "      <th>pcls_fix</th>\n",
       "      <th>s</th>\n",
       "      <th>t</th>\n",
       "    </tr>\n",
       "  </thead>\n",
       "  <tbody>\n",
       "    <tr>\n",
       "      <th>0</th>\n",
       "      <td>+7.40</td>\n",
       "      <td>7.40</td>\n",
       "      <td>chg</td>\n",
       "      <td>4.93</td>\n",
       "      <td>4.93</td>\n",
       "      <td>NASDAQ</td>\n",
       "      <td>22144</td>\n",
       "      <td>157.45</td>\n",
       "      <td>157.44</td>\n",
       "      <td>157.45</td>\n",
       "      <td>Aug 2, 2:00PM EDT</td>\n",
       "      <td>2017-08-02T14:00:09Z</td>\n",
       "      <td>2:00PM EDT</td>\n",
       "      <td>150.05</td>\n",
       "      <td>0</td>\n",
       "      <td>AAPL</td>\n",
       "    </tr>\n",
       "  </tbody>\n",
       "</table>\n",
       "</div>"
      ],
      "text/plain": [
       "       c c_fix ccol    cp cp_fix       e     id       l   l_cur   l_fix  \\\n",
       "0  +7.40  7.40  chg  4.93   4.93  NASDAQ  22144  157.45  157.44  157.45   \n",
       "\n",
       "                  lt                lt_dts         ltt pcls_fix  s     t  \n",
       "0  Aug 2, 2:00PM EDT  2017-08-02T14:00:09Z  2:00PM EDT   150.05  0  AAPL  "
      ]
     },
     "execution_count": 43,
     "metadata": {},
     "output_type": "execute_result"
    }
   ],
   "source": [
    "with open('./json/Apple_20.json') as json_file:\n",
    "  raw_json = json.load(json_file)\n",
    "\n",
    "raw_json\n",
    "\n",
    "normal_json = json_normalize(raw_json) \n",
    "normal_json"
   ]
  },
  {
   "cell_type": "code",
   "execution_count": 44,
   "metadata": {},
   "outputs": [
    {
     "data": {
      "text/html": [
       "<div>\n",
       "<style>\n",
       "    .dataframe thead tr:only-child th {\n",
       "        text-align: right;\n",
       "    }\n",
       "\n",
       "    .dataframe thead th {\n",
       "        text-align: left;\n",
       "    }\n",
       "\n",
       "    .dataframe tbody tr th {\n",
       "        vertical-align: top;\n",
       "    }\n",
       "</style>\n",
       "<table border=\"1\" class=\"dataframe\">\n",
       "  <thead>\n",
       "    <tr style=\"text-align: right;\">\n",
       "      <th></th>\n",
       "      <th>c</th>\n",
       "      <th>c_fix</th>\n",
       "      <th>ccol</th>\n",
       "      <th>cp</th>\n",
       "      <th>cp_fix</th>\n",
       "      <th>e</th>\n",
       "      <th>id</th>\n",
       "      <th>l</th>\n",
       "      <th>l_cur</th>\n",
       "      <th>l_fix</th>\n",
       "      <th>lt</th>\n",
       "      <th>lt_dts</th>\n",
       "      <th>ltt</th>\n",
       "      <th>pcls_fix</th>\n",
       "      <th>s</th>\n",
       "      <th>t</th>\n",
       "    </tr>\n",
       "  </thead>\n",
       "  <tbody>\n",
       "    <tr>\n",
       "      <th>0</th>\n",
       "      <td>+7.43</td>\n",
       "      <td>7.43</td>\n",
       "      <td>chg</td>\n",
       "      <td>4.95</td>\n",
       "      <td>4.95</td>\n",
       "      <td>NASDAQ</td>\n",
       "      <td>22144</td>\n",
       "      <td>157.48</td>\n",
       "      <td>157.48</td>\n",
       "      <td>157.48</td>\n",
       "      <td>Aug 2, 1:56PM EDT</td>\n",
       "      <td>2017-08-02T13:56:06Z</td>\n",
       "      <td>1:56PM EDT</td>\n",
       "      <td>150.05</td>\n",
       "      <td>0</td>\n",
       "      <td>AAPL</td>\n",
       "    </tr>\n",
       "    <tr>\n",
       "      <th>1</th>\n",
       "      <td>+7.31</td>\n",
       "      <td>7.31</td>\n",
       "      <td>chg</td>\n",
       "      <td>4.87</td>\n",
       "      <td>4.87</td>\n",
       "      <td>NASDAQ</td>\n",
       "      <td>22144</td>\n",
       "      <td>157.36</td>\n",
       "      <td>157.36</td>\n",
       "      <td>157.36</td>\n",
       "      <td>Aug 2, 1:58PM EDT</td>\n",
       "      <td>2017-08-02T13:58:10Z</td>\n",
       "      <td>1:58PM EDT</td>\n",
       "      <td>150.05</td>\n",
       "      <td>0</td>\n",
       "      <td>AAPL</td>\n",
       "    </tr>\n",
       "    <tr>\n",
       "      <th>2</th>\n",
       "      <td>+7.40</td>\n",
       "      <td>7.40</td>\n",
       "      <td>chg</td>\n",
       "      <td>4.93</td>\n",
       "      <td>4.93</td>\n",
       "      <td>NASDAQ</td>\n",
       "      <td>22144</td>\n",
       "      <td>157.45</td>\n",
       "      <td>157.44</td>\n",
       "      <td>157.45</td>\n",
       "      <td>Aug 2, 2:00PM EDT</td>\n",
       "      <td>2017-08-02T14:00:09Z</td>\n",
       "      <td>2:00PM EDT</td>\n",
       "      <td>150.05</td>\n",
       "      <td>0</td>\n",
       "      <td>AAPL</td>\n",
       "    </tr>\n",
       "    <tr>\n",
       "      <th>3</th>\n",
       "      <td>+7.36</td>\n",
       "      <td>7.36</td>\n",
       "      <td>chg</td>\n",
       "      <td>4.91</td>\n",
       "      <td>4.91</td>\n",
       "      <td>NASDAQ</td>\n",
       "      <td>22144</td>\n",
       "      <td>157.41</td>\n",
       "      <td>157.41</td>\n",
       "      <td>157.41</td>\n",
       "      <td>Aug 2, 1:54PM EDT</td>\n",
       "      <td>2017-08-02T13:54:08Z</td>\n",
       "      <td>1:54PM EDT</td>\n",
       "      <td>150.05</td>\n",
       "      <td>0</td>\n",
       "      <td>AAPL</td>\n",
       "    </tr>\n",
       "    <tr>\n",
       "      <th>4</th>\n",
       "      <td>+7.33</td>\n",
       "      <td>7.33</td>\n",
       "      <td>chg</td>\n",
       "      <td>4.89</td>\n",
       "      <td>4.89</td>\n",
       "      <td>NASDAQ</td>\n",
       "      <td>22144</td>\n",
       "      <td>157.38</td>\n",
       "      <td>157.38</td>\n",
       "      <td>157.38</td>\n",
       "      <td>Aug 2, 1:52PM EDT</td>\n",
       "      <td>2017-08-02T13:52:07Z</td>\n",
       "      <td>1:52PM EDT</td>\n",
       "      <td>150.05</td>\n",
       "      <td>0</td>\n",
       "      <td>AAPL</td>\n",
       "    </tr>\n",
       "  </tbody>\n",
       "</table>\n",
       "</div>"
      ],
      "text/plain": [
       "       c c_fix ccol    cp cp_fix       e     id       l   l_cur   l_fix  \\\n",
       "0  +7.43  7.43  chg  4.95   4.95  NASDAQ  22144  157.48  157.48  157.48   \n",
       "1  +7.31  7.31  chg  4.87   4.87  NASDAQ  22144  157.36  157.36  157.36   \n",
       "2  +7.40  7.40  chg  4.93   4.93  NASDAQ  22144  157.45  157.44  157.45   \n",
       "3  +7.36  7.36  chg  4.91   4.91  NASDAQ  22144  157.41  157.41  157.41   \n",
       "4  +7.33  7.33  chg  4.89   4.89  NASDAQ  22144  157.38  157.38  157.38   \n",
       "\n",
       "                  lt                lt_dts         ltt pcls_fix  s     t  \n",
       "0  Aug 2, 1:56PM EDT  2017-08-02T13:56:06Z  1:56PM EDT   150.05  0  AAPL  \n",
       "1  Aug 2, 1:58PM EDT  2017-08-02T13:58:10Z  1:58PM EDT   150.05  0  AAPL  \n",
       "2  Aug 2, 2:00PM EDT  2017-08-02T14:00:09Z  2:00PM EDT   150.05  0  AAPL  \n",
       "3  Aug 2, 1:54PM EDT  2017-08-02T13:54:08Z  1:54PM EDT   150.05  0  AAPL  \n",
       "4  Aug 2, 1:52PM EDT  2017-08-02T13:52:07Z  1:52PM EDT   150.05  0  AAPL  "
      ]
     },
     "execution_count": 44,
     "metadata": {},
     "output_type": "execute_result"
    }
   ],
   "source": [
    "top_folder = \"./json\"\n",
    "first_time = True\n",
    "\n",
    "for filename in os.listdir(top_folder):\n",
    "    filepath = top_folder + \"/\" + filename\n",
    "\n",
    "\n",
    "    with open(filepath) as json_file:\n",
    "      raw_json = json.load(json_file)\n",
    "\n",
    "    if (first_time):\n",
    " \n",
    "        first_time = False\n",
    "        bigdf = json_normalize(raw_json) \n",
    "    else:\n",
    "\n",
    "        new_json = json_normalize(raw_json)\n",
    "        bigdf = bigdf.append(new_json, ignore_index=True)\n",
    "    \n",
    "bigdf"
   ]
  },
  {
   "cell_type": "code",
   "execution_count": 68,
   "metadata": {},
   "outputs": [
    {
     "data": {
      "text/plain": [
       "c           object\n",
       "c_fix       object\n",
       "ccol        object\n",
       "cp          object\n",
       "cp_fix      object\n",
       "e           object\n",
       "id          object\n",
       "l           object\n",
       "l_cur       object\n",
       "l_fix       object\n",
       "lt          object\n",
       "lt_dts      object\n",
       "ltt         object\n",
       "pcls_fix    object\n",
       "s           object\n",
       "t           object\n",
       "dtype: object"
      ]
     },
     "execution_count": 68,
     "metadata": {},
     "output_type": "execute_result"
    }
   ],
   "source": [
    "bigdf.dtypes"
   ]
  },
  {
   "cell_type": "code",
   "execution_count": 83,
   "metadata": {},
   "outputs": [
    {
     "data": {
      "text/plain": [
       "0    157.48\n",
       "1    157.36\n",
       "2    157.45\n",
       "3    157.41\n",
       "4    157.38\n",
       "Name: l, dtype: object"
      ]
     },
     "execution_count": 83,
     "metadata": {},
     "output_type": "execute_result"
    }
   ],
   "source": [
    "# bigdf = bigdf.to_numeric(l)\n",
    "#bigdf = bigdf.convert_objects()\n",
    "minidf = bigdf.l.to_numeric\n",
    "minidf\n"
   ]
  },
  {
   "cell_type": "code",
   "execution_count": 53,
   "metadata": {},
   "outputs": [
    {
     "data": {
      "text/plain": [
       "0    157.48\n",
       "1    157.36\n",
       "2    157.45\n",
       "3    157.41\n",
       "4    157.38\n",
       "Name: l, dtype: object"
      ]
     },
     "execution_count": 53,
     "metadata": {},
     "output_type": "execute_result"
    }
   ],
   "source": [
    "bigdf.l"
   ]
  },
  {
   "cell_type": "code",
   "execution_count": 54,
   "metadata": {},
   "outputs": [
    {
     "data": {
      "text/plain": [
       "0    1:56PM EDT\n",
       "1    1:58PM EDT\n",
       "2    2:00PM EDT\n",
       "3    1:54PM EDT\n",
       "4    1:52PM EDT\n",
       "Name: ltt, dtype: object"
      ]
     },
     "execution_count": 54,
     "metadata": {},
     "output_type": "execute_result"
    }
   ],
   "source": [
    "bigdf.ltt"
   ]
  },
  {
   "cell_type": "code",
   "execution_count": 66,
   "metadata": {},
   "outputs": [
    {
     "ename": "AttributeError",
     "evalue": "'DataFrame' object has no attribute 'infer_objects'",
     "output_type": "error",
     "traceback": [
      "\u001b[0;31m---------------------------------------------------------------------------\u001b[0m",
      "\u001b[0;31mAttributeError\u001b[0m                            Traceback (most recent call last)",
      "\u001b[0;32m<ipython-input-66-011bc815b3a7>\u001b[0m in \u001b[0;36m<module>\u001b[0;34m()\u001b[0m\n\u001b[1;32m      1\u001b[0m \u001b[0mdf_ordered\u001b[0m \u001b[0;34m=\u001b[0m \u001b[0mbigdf\u001b[0m\u001b[0;34m.\u001b[0m\u001b[0msort_values\u001b[0m\u001b[0;34m(\u001b[0m\u001b[0;34m[\u001b[0m\u001b[0;34m'ltt'\u001b[0m\u001b[0;34m]\u001b[0m\u001b[0;34m)\u001b[0m\u001b[0;34m\u001b[0m\u001b[0m\n\u001b[0;32m----> 2\u001b[0;31m \u001b[0mdf_numeric\u001b[0m \u001b[0;34m=\u001b[0m \u001b[0mdf_ordered\u001b[0m\u001b[0;34m.\u001b[0m\u001b[0minfer_objects\u001b[0m\u001b[0;34m(\u001b[0m\u001b[0;34m)\u001b[0m\u001b[0;34m\u001b[0m\u001b[0m\n\u001b[0m",
      "\u001b[0;32m~/anaconda3/envs/pydata17_wed_0100/lib/python3.6/site-packages/pandas/core/generic.py\u001b[0m in \u001b[0;36m__getattr__\u001b[0;34m(self, name)\u001b[0m\n\u001b[1;32m   3079\u001b[0m             \u001b[0;32mif\u001b[0m \u001b[0mname\u001b[0m \u001b[0;32min\u001b[0m \u001b[0mself\u001b[0m\u001b[0;34m.\u001b[0m\u001b[0m_info_axis\u001b[0m\u001b[0;34m:\u001b[0m\u001b[0;34m\u001b[0m\u001b[0m\n\u001b[1;32m   3080\u001b[0m                 \u001b[0;32mreturn\u001b[0m \u001b[0mself\u001b[0m\u001b[0;34m[\u001b[0m\u001b[0mname\u001b[0m\u001b[0;34m]\u001b[0m\u001b[0;34m\u001b[0m\u001b[0m\n\u001b[0;32m-> 3081\u001b[0;31m             \u001b[0;32mreturn\u001b[0m \u001b[0mobject\u001b[0m\u001b[0;34m.\u001b[0m\u001b[0m__getattribute__\u001b[0m\u001b[0;34m(\u001b[0m\u001b[0mself\u001b[0m\u001b[0;34m,\u001b[0m \u001b[0mname\u001b[0m\u001b[0;34m)\u001b[0m\u001b[0;34m\u001b[0m\u001b[0m\n\u001b[0m\u001b[1;32m   3082\u001b[0m \u001b[0;34m\u001b[0m\u001b[0m\n\u001b[1;32m   3083\u001b[0m     \u001b[0;32mdef\u001b[0m \u001b[0m__setattr__\u001b[0m\u001b[0;34m(\u001b[0m\u001b[0mself\u001b[0m\u001b[0;34m,\u001b[0m \u001b[0mname\u001b[0m\u001b[0;34m,\u001b[0m \u001b[0mvalue\u001b[0m\u001b[0;34m)\u001b[0m\u001b[0;34m:\u001b[0m\u001b[0;34m\u001b[0m\u001b[0m\n",
      "\u001b[0;31mAttributeError\u001b[0m: 'DataFrame' object has no attribute 'infer_objects'"
     ]
    }
   ],
   "source": [
    "df_ordered = bigdf.sort_values(['ltt'])\n",
    "df_numeric = df_ordered.infer_objects()"
   ]
  },
  {
   "cell_type": "code",
   "execution_count": 63,
   "metadata": {},
   "outputs": [
    {
     "ename": "TypeError",
     "evalue": "Empty 'DataFrame': no numeric data to plot",
     "output_type": "error",
     "traceback": [
      "\u001b[0;31m---------------------------------------------------------------------------\u001b[0m",
      "\u001b[0;31mTypeError\u001b[0m                                 Traceback (most recent call last)",
      "\u001b[0;32m<ipython-input-63-23d68cb18cb3>\u001b[0m in \u001b[0;36m<module>\u001b[0;34m()\u001b[0m\n\u001b[0;32m----> 1\u001b[0;31m \u001b[0mdf_ordered\u001b[0m\u001b[0;34m.\u001b[0m\u001b[0mplot\u001b[0m\u001b[0;34m(\u001b[0m\u001b[0mdf_ordered\u001b[0m\u001b[0;34m.\u001b[0m\u001b[0ml\u001b[0m\u001b[0;34m)\u001b[0m\u001b[0;34m\u001b[0m\u001b[0m\n\u001b[0m",
      "\u001b[0;32m~/anaconda3/envs/pydata17_wed_0100/lib/python3.6/site-packages/pandas/plotting/_core.py\u001b[0m in \u001b[0;36m__call__\u001b[0;34m(self, x, y, kind, ax, subplots, sharex, sharey, layout, figsize, use_index, title, grid, legend, style, logx, logy, loglog, xticks, yticks, xlim, ylim, rot, fontsize, colormap, table, yerr, xerr, secondary_y, sort_columns, **kwds)\u001b[0m\n\u001b[1;32m   2615\u001b[0m                           \u001b[0mfontsize\u001b[0m\u001b[0;34m=\u001b[0m\u001b[0mfontsize\u001b[0m\u001b[0;34m,\u001b[0m \u001b[0mcolormap\u001b[0m\u001b[0;34m=\u001b[0m\u001b[0mcolormap\u001b[0m\u001b[0;34m,\u001b[0m \u001b[0mtable\u001b[0m\u001b[0;34m=\u001b[0m\u001b[0mtable\u001b[0m\u001b[0;34m,\u001b[0m\u001b[0;34m\u001b[0m\u001b[0m\n\u001b[1;32m   2616\u001b[0m                           \u001b[0myerr\u001b[0m\u001b[0;34m=\u001b[0m\u001b[0myerr\u001b[0m\u001b[0;34m,\u001b[0m \u001b[0mxerr\u001b[0m\u001b[0;34m=\u001b[0m\u001b[0mxerr\u001b[0m\u001b[0;34m,\u001b[0m \u001b[0msecondary_y\u001b[0m\u001b[0;34m=\u001b[0m\u001b[0msecondary_y\u001b[0m\u001b[0;34m,\u001b[0m\u001b[0;34m\u001b[0m\u001b[0m\n\u001b[0;32m-> 2617\u001b[0;31m                           sort_columns=sort_columns, **kwds)\n\u001b[0m\u001b[1;32m   2618\u001b[0m     \u001b[0m__call__\u001b[0m\u001b[0;34m.\u001b[0m\u001b[0m__doc__\u001b[0m \u001b[0;34m=\u001b[0m \u001b[0mplot_frame\u001b[0m\u001b[0;34m.\u001b[0m\u001b[0m__doc__\u001b[0m\u001b[0;34m\u001b[0m\u001b[0m\n\u001b[1;32m   2619\u001b[0m \u001b[0;34m\u001b[0m\u001b[0m\n",
      "\u001b[0;32m~/anaconda3/envs/pydata17_wed_0100/lib/python3.6/site-packages/pandas/plotting/_core.py\u001b[0m in \u001b[0;36mplot_frame\u001b[0;34m(data, x, y, kind, ax, subplots, sharex, sharey, layout, figsize, use_index, title, grid, legend, style, logx, logy, loglog, xticks, yticks, xlim, ylim, rot, fontsize, colormap, table, yerr, xerr, secondary_y, sort_columns, **kwds)\u001b[0m\n\u001b[1;32m   1857\u001b[0m                  \u001b[0myerr\u001b[0m\u001b[0;34m=\u001b[0m\u001b[0myerr\u001b[0m\u001b[0;34m,\u001b[0m \u001b[0mxerr\u001b[0m\u001b[0;34m=\u001b[0m\u001b[0mxerr\u001b[0m\u001b[0;34m,\u001b[0m\u001b[0;34m\u001b[0m\u001b[0m\n\u001b[1;32m   1858\u001b[0m                  \u001b[0msecondary_y\u001b[0m\u001b[0;34m=\u001b[0m\u001b[0msecondary_y\u001b[0m\u001b[0;34m,\u001b[0m \u001b[0msort_columns\u001b[0m\u001b[0;34m=\u001b[0m\u001b[0msort_columns\u001b[0m\u001b[0;34m,\u001b[0m\u001b[0;34m\u001b[0m\u001b[0m\n\u001b[0;32m-> 1859\u001b[0;31m                  **kwds)\n\u001b[0m\u001b[1;32m   1860\u001b[0m \u001b[0;34m\u001b[0m\u001b[0m\n\u001b[1;32m   1861\u001b[0m \u001b[0;34m\u001b[0m\u001b[0m\n",
      "\u001b[0;32m~/anaconda3/envs/pydata17_wed_0100/lib/python3.6/site-packages/pandas/plotting/_core.py\u001b[0m in \u001b[0;36m_plot\u001b[0;34m(data, x, y, subplots, ax, kind, **kwds)\u001b[0m\n\u001b[1;32m   1682\u001b[0m         \u001b[0mplot_obj\u001b[0m \u001b[0;34m=\u001b[0m \u001b[0mklass\u001b[0m\u001b[0;34m(\u001b[0m\u001b[0mdata\u001b[0m\u001b[0;34m,\u001b[0m \u001b[0msubplots\u001b[0m\u001b[0;34m=\u001b[0m\u001b[0msubplots\u001b[0m\u001b[0;34m,\u001b[0m \u001b[0max\u001b[0m\u001b[0;34m=\u001b[0m\u001b[0max\u001b[0m\u001b[0;34m,\u001b[0m \u001b[0mkind\u001b[0m\u001b[0;34m=\u001b[0m\u001b[0mkind\u001b[0m\u001b[0;34m,\u001b[0m \u001b[0;34m**\u001b[0m\u001b[0mkwds\u001b[0m\u001b[0;34m)\u001b[0m\u001b[0;34m\u001b[0m\u001b[0m\n\u001b[1;32m   1683\u001b[0m \u001b[0;34m\u001b[0m\u001b[0m\n\u001b[0;32m-> 1684\u001b[0;31m     \u001b[0mplot_obj\u001b[0m\u001b[0;34m.\u001b[0m\u001b[0mgenerate\u001b[0m\u001b[0;34m(\u001b[0m\u001b[0;34m)\u001b[0m\u001b[0;34m\u001b[0m\u001b[0m\n\u001b[0m\u001b[1;32m   1685\u001b[0m     \u001b[0mplot_obj\u001b[0m\u001b[0;34m.\u001b[0m\u001b[0mdraw\u001b[0m\u001b[0;34m(\u001b[0m\u001b[0;34m)\u001b[0m\u001b[0;34m\u001b[0m\u001b[0m\n\u001b[1;32m   1686\u001b[0m     \u001b[0;32mreturn\u001b[0m \u001b[0mplot_obj\u001b[0m\u001b[0;34m.\u001b[0m\u001b[0mresult\u001b[0m\u001b[0;34m\u001b[0m\u001b[0m\n",
      "\u001b[0;32m~/anaconda3/envs/pydata17_wed_0100/lib/python3.6/site-packages/pandas/plotting/_core.py\u001b[0m in \u001b[0;36mgenerate\u001b[0;34m(self)\u001b[0m\n\u001b[1;32m    236\u001b[0m     \u001b[0;32mdef\u001b[0m \u001b[0mgenerate\u001b[0m\u001b[0;34m(\u001b[0m\u001b[0mself\u001b[0m\u001b[0;34m)\u001b[0m\u001b[0;34m:\u001b[0m\u001b[0;34m\u001b[0m\u001b[0m\n\u001b[1;32m    237\u001b[0m         \u001b[0mself\u001b[0m\u001b[0;34m.\u001b[0m\u001b[0m_args_adjust\u001b[0m\u001b[0;34m(\u001b[0m\u001b[0;34m)\u001b[0m\u001b[0;34m\u001b[0m\u001b[0m\n\u001b[0;32m--> 238\u001b[0;31m         \u001b[0mself\u001b[0m\u001b[0;34m.\u001b[0m\u001b[0m_compute_plot_data\u001b[0m\u001b[0;34m(\u001b[0m\u001b[0;34m)\u001b[0m\u001b[0;34m\u001b[0m\u001b[0m\n\u001b[0m\u001b[1;32m    239\u001b[0m         \u001b[0mself\u001b[0m\u001b[0;34m.\u001b[0m\u001b[0m_setup_subplots\u001b[0m\u001b[0;34m(\u001b[0m\u001b[0;34m)\u001b[0m\u001b[0;34m\u001b[0m\u001b[0m\n\u001b[1;32m    240\u001b[0m         \u001b[0mself\u001b[0m\u001b[0;34m.\u001b[0m\u001b[0m_make_plot\u001b[0m\u001b[0;34m(\u001b[0m\u001b[0;34m)\u001b[0m\u001b[0;34m\u001b[0m\u001b[0m\n",
      "\u001b[0;32m~/anaconda3/envs/pydata17_wed_0100/lib/python3.6/site-packages/pandas/plotting/_core.py\u001b[0m in \u001b[0;36m_compute_plot_data\u001b[0;34m(self)\u001b[0m\n\u001b[1;32m    345\u001b[0m         \u001b[0;32mif\u001b[0m \u001b[0mis_empty\u001b[0m\u001b[0;34m:\u001b[0m\u001b[0;34m\u001b[0m\u001b[0m\n\u001b[1;32m    346\u001b[0m             raise TypeError('Empty {0!r}: no numeric data to '\n\u001b[0;32m--> 347\u001b[0;31m                             'plot'.format(numeric_data.__class__.__name__))\n\u001b[0m\u001b[1;32m    348\u001b[0m \u001b[0;34m\u001b[0m\u001b[0m\n\u001b[1;32m    349\u001b[0m         \u001b[0mself\u001b[0m\u001b[0;34m.\u001b[0m\u001b[0mdata\u001b[0m \u001b[0;34m=\u001b[0m \u001b[0mnumeric_data\u001b[0m\u001b[0;34m\u001b[0m\u001b[0m\n",
      "\u001b[0;31mTypeError\u001b[0m: Empty 'DataFrame': no numeric data to plot"
     ]
    }
   ],
   "source": [
    "df_ordered.plot(df_ordered.l)"
   ]
  },
  {
   "cell_type": "code",
   "execution_count": null,
   "metadata": {
    "collapsed": true
   },
   "outputs": [],
   "source": []
  },
  {
   "cell_type": "code",
   "execution_count": null,
   "metadata": {
    "collapsed": true
   },
   "outputs": [],
   "source": []
  }
 ],
 "metadata": {
  "kernelspec": {
   "display_name": "Python 3",
   "language": "python",
   "name": "python3"
  },
  "language_info": {
   "codemirror_mode": {
    "name": "ipython",
    "version": 3
   },
   "file_extension": ".py",
   "mimetype": "text/x-python",
   "name": "python",
   "nbconvert_exporter": "python",
   "pygments_lexer": "ipython3",
   "version": "3.6.1"
  }
 },
 "nbformat": 4,
 "nbformat_minor": 2
}
